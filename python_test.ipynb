{
  "nbformat": 4,
  "nbformat_minor": 0,
  "metadata": {
    "colab": {
      "name": "python_test.ipynb",
      "provenance": [],
      "collapsed_sections": [],
      "mount_file_id": "1RvYCYeVM9vTzXgjaI1OGxAexP_5GzSQG",
      "authorship_tag": "ABX9TyMDa8cIAohk3KtZiub7wQaz",
      "include_colab_link": true
    },
    "kernelspec": {
      "name": "python3",
      "display_name": "Python 3"
    }
  },
  "cells": [
    {
      "cell_type": "markdown",
      "metadata": {
        "id": "view-in-github",
        "colab_type": "text"
      },
      "source": [
        "<a href=\"https://colab.research.google.com/github/yan25920928/Colab/blob/master/python_test.ipynb\" target=\"_parent\"><img src=\"https://colab.research.google.com/assets/colab-badge.svg\" alt=\"Open In Colab\"/></a>"
      ]
    },
    {
      "cell_type": "code",
      "metadata": {
        "id": "F2H8B8AbE6zg",
        "colab_type": "code",
        "outputId": "f07d476e-9cb1-4be5-853e-b22c823a266e",
        "colab": {
          "base_uri": "https://localhost:8080/",
          "height": 102
        }
      },
      "source": [
        "# test 02-07\n",
        "# 打印自己的英文昵称\n",
        "print('Yan')\n",
        "# 打印一个含有加减乘除的数学表达式\n",
        "print(\"5+6-4*3/2=%f\"%(5+6-4*3/2))\n",
        "# 使用两次 print 语句，但只显示一行\n",
        "print(\"Hello\",end=\" \")\n",
        "print(\"Python World\")\n",
        "# 使用一次 print 语句，但显示在两行中\n",
        "print(\"Hello: \\nColab World\")\n"
      ],
      "execution_count": 0,
      "outputs": [
        {
          "output_type": "stream",
          "text": [
            "Yan\n",
            "5+6-4*3/2=5.000000\n",
            "Hello Python World\n",
            "Hello: \n",
            "Colab World\n"
          ],
          "name": "stdout"
        }
      ]
    },
    {
      "cell_type": "code",
      "metadata": {
        "id": "c3B7UsCBqMlx",
        "colab_type": "code",
        "outputId": "0f5bb0a1-b7f1-41ed-8ab4-e24f48d0e98f",
        "colab": {
          "base_uri": "https://localhost:8080/",
          "height": 34
        }
      },
      "source": [
        "# 1,2,3,4 四个数字，能组成多少个互不相同且无重复数字的三位数？分别是多少？\n",
        "# 要求：输出 1,2,3,4 组合出的所有无重复数字的三位数\n",
        "for single in [1,2,3,4]:\n",
        "  for ten in [1,2,3,4]:\n",
        "    for hundred in [1,2,3,4]:\n",
        "      if single != ten and ten != hundred and single != hundred:\n",
        "        print(\"%d%d%d\"%(single,ten,hundred),end=\" \")"
      ],
      "execution_count": 25,
      "outputs": [
        {
          "output_type": "stream",
          "text": [
            "123 124 132 134 142 143 213 214 231 234 241 243 312 314 321 324 341 342 412 413 421 423 431 432 "
          ],
          "name": "stdout"
        }
      ]
    },
    {
      "cell_type": "code",
      "metadata": {
        "id": "DKyVcbfZlysc",
        "colab_type": "code",
        "outputId": "af2c53e0-9006-4bd0-c79f-d0f2dc33f96a",
        "colab": {
          "base_uri": "https://localhost:8080/",
          "height": 85
        }
      },
      "source": [
        "# input test01\n",
        "name = input(\"your name\")\n",
        "gender = input(\"you are a boy?(y/n)\")\n",
        "welcome_str = \"Welcome to the matrix{prefix}{name}\"\n",
        "welcome_dic = {\n",
        "    \"prefix\": \"Mr.\" if gender == 'y' else \"Mrs\",\n",
        "    \"name\": name\n",
        "}\n",
        "\n",
        "print(\"authorizing...\")\n",
        "print(welcome_str.format(**welcome_dic))"
      ],
      "execution_count": 0,
      "outputs": [
        {
          "output_type": "stream",
          "text": [
            "your nameyan\n",
            "you are a boy?(y/n)y\n",
            "authorizing...\n",
            "Welcome to the matrixMr.yan\n"
          ],
          "name": "stdout"
        }
      ]
    },
    {
      "cell_type": "code",
      "metadata": {
        "id": "lhBvJtTaNyjS",
        "colab_type": "code",
        "outputId": "8d259fd6-9891-4559-bdfd-d33a9540d8e3",
        "colab": {
          "base_uri": "https://localhost:8080/",
          "height": 102
        }
      },
      "source": [
        "# input test02\n",
        "a = input(\"a : \")\n",
        "b = input(\"b : \")\n",
        "print(\"a + b = {}\".format(a + b))\n",
        "print('type of a is{}, type of b is{}'.format(type(a), type(b)))\n",
        "print(\"a + b = {}\".format(int(a) + int(b)))"
      ],
      "execution_count": 0,
      "outputs": [
        {
          "output_type": "stream",
          "text": [
            "a : 1\n",
            "b : 2\n",
            "a + b = 12\n",
            "type of a is<class 'str'>, type of b is<class 'str'>\n",
            "a + b = 3\n"
          ],
          "name": "stdout"
        }
      ]
    },
    {
      "cell_type": "code",
      "metadata": {
        "id": "bhF9-sfsZUUg",
        "colab_type": "code",
        "colab": {}
      },
      "source": [
        "import re\n",
        "from google.colab import files\n",
        "\n",
        "def parse(text):\n",
        "  text = re.sub(r'[^\\w ]', ' ', text)\n",
        "  text = text.lower()\n",
        "  word_list = text.split(' ')\n",
        "  word_list = filter(None, word_list)\n",
        "  word_cnt = { }\n",
        "  for word in word_list:\n",
        "    if word not in word_cnt:\n",
        "      word_cnt[word] = 0\n",
        "    word_cnt[word] += 1  \n",
        "  sorted_word_cnt = sorted(word_cnt.items(), key = lambda kv:kv[1], reverse=True)\n",
        "  return sorted_word_cnt\n",
        "\n",
        "with open(\"in.txt\") as fin:\n",
        "  text = fin.read()\n",
        "\n",
        "word_and_freq = parse(text)\n",
        "\n",
        "# print(word_and_freq)\n",
        "\n",
        "with open(\"out.txt\", 'w') as fout:\n",
        "  for word, freq in word_and_freq:\n",
        "    fout.write(\"{}{} \\r\\n\".format(word, freq)) # win记事本的换行符为\\r\\n；Notepad++使用\\n即可\n",
        "\n",
        "files.download('out.txt')\n"
      ],
      "execution_count": 0,
      "outputs": []
    },
    {
      "cell_type": "code",
      "metadata": {
        "id": "3BGEERUXE5NL",
        "colab_type": "code",
        "outputId": "6c8e595b-58a7-4339-cd76-92a55b8482e8",
        "colab": {
          "base_uri": "https://localhost:8080/",
          "height": 51
        }
      },
      "source": [
        "import json\n",
        "\n",
        "params = {\n",
        "    'symbol':'123456',\n",
        "    'type':'limit',\n",
        "    'price':'123.4',\n",
        "    'amount':'23'\n",
        "}\n",
        "\n",
        "params_str = json.dumps(params) # 序列化为str\n",
        "# print('after json serialization')\n",
        "# print('type of params_str = {}, params_str = {}'.format(type(params_str), params))\n",
        "\n",
        "original_params = json.loads(params_str)# 反序列化为基本数据类型\n",
        "# print('after json deserialization')\n",
        "# print('type of original_params = {}, original_params = {}'.format(type(original_params), original_params))\n",
        "\n",
        "with open(\"params.json\", 'w') as fout:  \n",
        "  params_str = json.dump(params, fout)\n",
        "\n",
        "with open(\"params.json\", 'r') as fin:\n",
        "  original_params = json.load(fin)    \n",
        "\n",
        "print('after json deserialization')\n",
        "print('type of original_params = {}, original_params = {}'.format(type(original_params), original_params))"
      ],
      "execution_count": 0,
      "outputs": [
        {
          "output_type": "stream",
          "text": [
            "after json deserialization\n",
            "type of original_params = <class 'dict'>, original_params = {'symbol': '123456', 'type': 'limit', 'price': '123.4', 'amount': '23'}\n"
          ],
          "name": "stdout"
        }
      ]
    },
    {
      "cell_type": "markdown",
      "metadata": {
        "id": "iYDy-CcrbKMk",
        "colab_type": "text"
      },
      "source": [
        "# 新段落"
      ]
    },
    {
      "cell_type": "code",
      "metadata": {
        "id": "zjt0ZRt2iwCU",
        "colab_type": "code",
        "colab": {}
      },
      "source": [
        ""
      ],
      "execution_count": 0,
      "outputs": []
    }
  ]
}