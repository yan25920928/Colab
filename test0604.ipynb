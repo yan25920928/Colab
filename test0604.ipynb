{
  "nbformat": 4,
  "nbformat_minor": 0,
  "metadata": {
    "colab": {
      "name": "Untitled1.ipynb",
      "provenance": [],
      "collapsed_sections": [],
      "authorship_tag": "ABX9TyPXxuo54EjiLUeQeLxQYfAd",
      "include_colab_link": true
    },
    "kernelspec": {
      "name": "python3",
      "display_name": "Python 3"
    }
  },
  "cells": [
    {
      "cell_type": "markdown",
      "metadata": {
        "id": "view-in-github",
        "colab_type": "text"
      },
      "source": [
        "<a href=\"https://colab.research.google.com/github/yan25920928/Colab/blob/master/test0604.ipynb\" target=\"_parent\"><img src=\"https://colab.research.google.com/assets/colab-badge.svg\" alt=\"Open In Colab\"/></a>"
      ]
    },
    {
      "cell_type": "code",
      "metadata": {
        "id": "DKyVcbfZlysc",
        "colab_type": "code",
        "outputId": "af2c53e0-9006-4bd0-c79f-d0f2dc33f96a",
        "colab": {
          "base_uri": "https://localhost:8080/",
          "height": 85
        }
      },
      "source": [
        "# input test01\n",
        "name = input(\"your name\")\n",
        "gender = input(\"you are a boy?(y/n)\")\n",
        "welcome_str = \"Welcome to the matrix{prefix}{name}\"\n",
        "welcome_dic = {\n",
        "    \"prefix\": \"Mr.\" if gender == 'y' else \"Mrs\",\n",
        "    \"name\": name\n",
        "}\n",
        "\n",
        "print(\"authorizing...\")\n",
        "print(welcome_str.format(**welcome_dic))"
      ],
      "execution_count": 0,
      "outputs": [
        {
          "output_type": "stream",
          "text": [
            "your nameyan\n",
            "you are a boy?(y/n)y\n",
            "authorizing...\n",
            "Welcome to the matrixMr.yan\n"
          ],
          "name": "stdout"
        }
      ]
    },
    {
      "cell_type": "code",
      "metadata": {
        "id": "lhBvJtTaNyjS",
        "colab_type": "code",
        "outputId": "8d259fd6-9891-4559-bdfd-d33a9540d8e3",
        "colab": {
          "base_uri": "https://localhost:8080/",
          "height": 102
        }
      },
      "source": [
        "# input test02\n",
        "a = input(\"a : \")\n",
        "b = input(\"b : \")\n",
        "print(\"a + b = {}\".format(a + b))\n",
        "print('type of a is{}, type of b is{}'.format(type(a), type(b)))\n",
        "print(\"a + b = {}\".format(int(a) + int(b)))"
      ],
      "execution_count": 0,
      "outputs": [
        {
          "output_type": "stream",
          "text": [
            "a : 1\n",
            "b : 2\n",
            "a + b = 12\n",
            "type of a is<class 'str'>, type of b is<class 'str'>\n",
            "a + b = 3\n"
          ],
          "name": "stdout"
        }
      ]
    },
    {
      "cell_type": "code",
      "metadata": {
        "id": "bhF9-sfsZUUg",
        "colab_type": "code",
        "colab": {}
      },
      "source": [
        ""
      ],
      "execution_count": 0,
      "outputs": []
    },
    {
      "cell_type": "markdown",
      "metadata": {
        "id": "iYDy-CcrbKMk",
        "colab_type": "text"
      },
      "source": [
        "# 新段落"
      ]
    }
  ]
}